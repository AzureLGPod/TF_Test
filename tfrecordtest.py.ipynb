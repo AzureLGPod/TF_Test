{
 "cells": [
  {
   "cell_type": "code",
   "execution_count": 3,
   "metadata": {},
   "outputs": [],
   "source": [
    "%matplotlib inline\n",
    "\n",
    "import math\n",
    "import io \n",
    "import skimage.io as skiio\n",
    "import tensorflow as tf\n",
    "import os\n",
    "import matplotlib.image as mpimg\n",
    "import PIL\n",
    "import shutil\n",
    "import numpy as np\n",
    "import sys\n",
    "from PIL import Image"
   ]
  },
  {
   "cell_type": "code",
   "execution_count": 4,
   "metadata": {},
   "outputs": [],
   "source": [
    "filename='/home/kunho/dog.8893.jpg'"
   ]
  },
  {
   "cell_type": "code",
   "execution_count": 5,
   "metadata": {},
   "outputs": [
    {
     "data": {
      "text/plain": [
       "'dog'"
      ]
     },
     "execution_count": 5,
     "metadata": {},
     "output_type": "execute_result"
    }
   ],
   "source": [
    "os.path.basename(filename).split('.')[0]"
   ]
  },
  {
   "cell_type": "code",
   "execution_count": 6,
   "metadata": {},
   "outputs": [],
   "source": [
    "class GenerateTFRecord:\n",
    "    def __init__(self, labels):\n",
    "        self.labels = labels\n",
    "\n",
    "    def convert_image_folder(self, img_folder, tfrecord_folder, split_name, tfrecord_filename, _NUM_SHARDS):\n",
    "        \n",
    "        assert split_name in ['train', 'validation']\n",
    "        \n",
    "        # Get all file names of images present in folder\n",
    "        img_paths = os.listdir(img_folder)\n",
    "        img_paths = [os.path.abspath(os.path.join(img_folder, i)) for i in img_paths]\n",
    "        \n",
    "        \n",
    "        num_per_shard = int(math.ceil(len(img_paths) / float(_NUM_SHARDS)))\n",
    "\n",
    "        with tf.Graph().as_default():\n",
    "            #image_reader = ImageReader()\n",
    "            with tf.Session('') as sess:\n",
    "                for shard_id in range(_NUM_SHARDS):\n",
    "                    output_filename = self._get_dataset_filename(\n",
    "                        tfrecord_folder, split_name, shard_id, tfrecord_filename, _NUM_SHARDS)\n",
    "                    print('output_filename is %s' % (output_filename))\n",
    "                    with tf.python_io.TFRecordWriter(output_filename) as writer:\n",
    "                        start_ndx = shard_id * num_per_shard\n",
    "                        end_ndx = min((shard_id+1) * num_per_shard, len(img_paths))\n",
    "                        for i in range(start_ndx, end_ndx):\n",
    "                            sys.stdout.write('\\r>> Converting image %d/%d shard %d' % (\n",
    "                                i+1, len(img_paths), shard_id))\n",
    "                            sys.stdout.flush()\n",
    "                            example = self._convert_image(img_paths[i])\n",
    "                            writer.write(example.SerializeToString())\n",
    "\n",
    "    def _convert_image(self, img_path):\n",
    "        label = self._get_label_with_filename(img_path)\n",
    "        img_shape = mpimg.imread(img_path).shape\n",
    "        filename = os.path.basename(img_path)\n",
    "\n",
    "        # Read image data in terms of bytes\n",
    "        #with tf.gfile.FastGFile(img_path, 'rb') as fid:\n",
    "        #    image_data = fid.read()\n",
    "        \n",
    "        img = Image.open(img_path, mode='r')\n",
    "        imgByteArr = io.BytesIO()\n",
    "        img.save(imgByteArr, format=img.format)\n",
    "        image_data = imgByteArr.getvalue()\n",
    "            \n",
    "        #image_string = tf.read_file(final_path[0])\n",
    "        #image = tf.image.decode_jpeg(image_string)\n",
    "        #image = tf.cast(image,tf.int8)\n",
    "        #image = tf.cast(image,tf.float32)\n",
    "        \n",
    "        example = tf.train.Example(features = tf.train.Features(feature = {\n",
    "            'filename': tf.train.Feature(bytes_list = tf.train.BytesList(value = [filename.encode('utf-8')])),\n",
    "            'rows': tf.train.Feature(int64_list = tf.train.Int64List(value = [img_shape[0]])),\n",
    "            'cols': tf.train.Feature(int64_list = tf.train.Int64List(value = [img_shape[1]])),\n",
    "            'channels': tf.train.Feature(int64_list = tf.train.Int64List(value = [img_shape[2]])),\n",
    "            'image': tf.train.Feature(bytes_list = tf.train.BytesList(value = [image_data])),\n",
    "            'label': tf.train.Feature(int64_list = tf.train.Int64List(value = [label])),\n",
    "        }))\n",
    "        return example\n",
    "        \n",
    "    def _get_label_with_filename(self, filename):\n",
    "        basename = os.path.basename(filename).split('.')[0]\n",
    "        basename = basename.split('_')[0]\n",
    "        return self.labels[basename]\n",
    "    \n",
    "    def _get_dataset_filename(self,dataset_dir, split_name, shard_id, tfrecord_filename_input, _NUM_SHARDS):\n",
    "        output_filename = '%s_%s_%05d-of-%05d.tfrecord' % (\n",
    "        tfrecord_filename_input, split_name, shard_id, _NUM_SHARDS)\n",
    "        return os.path.join(dataset_dir, output_filename)"
   ]
  },
  {
   "cell_type": "code",
   "execution_count": null,
   "metadata": {},
   "outputs": [
    {
     "name": "stdout",
     "output_type": "stream",
     "text": [
      "output_filename is /home/kunho/anaconda3/examples/cats_and_dog/tf_record/image_train_00000-of-00010.tfrecord\n",
      ">> Converting image 2500/25000 shard 0output_filename is /home/kunho/anaconda3/examples/cats_and_dog/tf_record/image_train_00001-of-00010.tfrecord\n",
      ">> Converting image 5000/25000 shard 1output_filename is /home/kunho/anaconda3/examples/cats_and_dog/tf_record/image_train_00002-of-00010.tfrecord\n",
      ">> Converting image 7500/25000 shard 2output_filename is /home/kunho/anaconda3/examples/cats_and_dog/tf_record/image_train_00003-of-00010.tfrecord\n",
      ">> Converting image 10000/25000 shard 3output_filename is /home/kunho/anaconda3/examples/cats_and_dog/tf_record/image_train_00004-of-00010.tfrecord\n",
      ">> Converting image 12500/25000 shard 4output_filename is /home/kunho/anaconda3/examples/cats_and_dog/tf_record/image_train_00005-of-00010.tfrecord\n",
      ">> Converting image 15000/25000 shard 5output_filename is /home/kunho/anaconda3/examples/cats_and_dog/tf_record/image_train_00006-of-00010.tfrecord\n",
      ">> Converting image 17500/25000 shard 6output_filename is /home/kunho/anaconda3/examples/cats_and_dog/tf_record/image_train_00007-of-00010.tfrecord\n",
      ">> Converting image 19089/25000 shard 7"
     ]
    }
   ],
   "source": [
    "img_folder=os.path.join(os.path.expanduser('~'),'anaconda3','examples','cats_and_dog','train')\n",
    "tf_record_folder=os.path.join(os.path.expanduser('~'),'anaconda3','examples','cats_and_dog','tf_record')\n",
    "if not os.path.exists('tf_record'):\n",
    "    os.makedirs('tf_record')\n",
    "    print(\"%s was created since it didn't exist!\" % (tf_record_folder))\n",
    "    \n",
    "labels = {'cat': 0, 'dog': 10}\n",
    "t = GenerateTFRecord(labels)\n",
    "t.convert_image_folder( img_folder, tf_record_folder, 'train', 'image', 10)"
   ]
  },
  {
   "cell_type": "code",
   "execution_count": 7,
   "metadata": {},
   "outputs": [],
   "source": [
    "class TFRecordExtractor:\n",
    "    def __init__(self, tfrecord_file):\n",
    "        self.tfrecord_file = os.path.abspath(tfrecord_file)\n",
    "\n",
    "    def _extract_fn(self, tfrecord):\n",
    "        # Extract features using the keys set during creation\n",
    "        features = {\n",
    "            'filename': tf.FixedLenFeature([], tf.string),\n",
    "            'rows': tf.FixedLenFeature([], tf.int64),\n",
    "            'cols': tf.FixedLenFeature([], tf.int64),\n",
    "            'channels': tf.FixedLenFeature([], tf.int64),\n",
    "            'image': tf.FixedLenFeature([], tf.string),\n",
    "            'label': tf.FixedLenFeature([], tf.int64)\n",
    "        }\n",
    "\n",
    "        # Extract the data record\n",
    "        sample = tf.parse_single_example(tfrecord, features)\n",
    "\n",
    "        image = tf.image.decode_image(sample['image'])        \n",
    "        img_shape = tf.stack([sample['rows'], sample['cols'], sample['channels']])\n",
    "        label = sample['label']\n",
    "        filename = sample['filename']\n",
    "        return [image, label, filename, img_shape]        \n",
    "\n",
    "    def extract_image(self):\n",
    "        # Create folder to store extracted images\n",
    "        folder_path = './ExtractedImages'\n",
    "        shutil.rmtree(folder_path, ignore_errors = True)\n",
    "        os.mkdir(folder_path)\n",
    "\n",
    "        # Pipeline of dataset and iterator \n",
    "        dataset = tf.data.TFRecordDataset([self.tfrecord_file])\n",
    "        dataset = dataset.map(self._extract_fn).batch(64)\n",
    "        #dataset = dataset.map(self._extract_fn),shuffle(True).batch(32)\n",
    "        #tfrecord_dataset = tfrecord_dataset.map(lambda   x:_parse_(x)).shuffle(True).batch(batch_size)\n",
    "        iterator = dataset.make_one_shot_iterator()\n",
    "        next_image_data = iterator.get_next()\n",
    "\n",
    "        with tf.Session() as sess:\n",
    "            sess.run(tf.global_variables_initializer())\n",
    "\n",
    "            try:\n",
    "                # Keep extracting data till TFRecord is exhausted\n",
    "                while True:\n",
    "                    image_data = sess.run(next_image_data)\n",
    "\n",
    "                    # Check if image shape is same after decoding\n",
    "                    if not np.array_equal(image_data[0].shape, image_data[3]):\n",
    "                        print('Image {} not decoded properly'.format(image_data[2]))\n",
    "                        continue\n",
    "                        \n",
    "                    save_path = os.path.abspath(os.path.join(folder_path, image_data[2].decode('utf-8')))\n",
    "                    #image_data[0] = tf.cast(image_data[0],tf.int8)\n",
    "                    mpimg.imsave(save_path, image_data[0])\n",
    "                    print('Save path = ', save_path, ', Label = ', image_data[1])\n",
    "            except:\n",
    "                pass\n"
   ]
  },
  {
   "cell_type": "code",
   "execution_count": 8,
   "metadata": {},
   "outputs": [
    {
     "name": "stdout",
     "output_type": "stream",
     "text": [
      "['image_train_00000-of-00010.tfrecord', 'image_train_00001-of-00010.tfrecord', 'image_train_00002-of-00010.tfrecord', 'image_train_00003-of-00010.tfrecord', 'image_train_00004-of-00010.tfrecord', 'image_train_00005-of-00010.tfrecord', 'image_train_00006-of-00010.tfrecord', 'image_train_00007-of-00010.tfrecord', 'image_train_00008-of-00010.tfrecord', 'image_train_00009-of-00010.tfrecord']\n",
      "WARNING:tensorflow:From /home/kunho/anaconda3/lib/python3.7/site-packages/tensorflow/python/ops/control_flow_ops.py:423: colocate_with (from tensorflow.python.framework.ops) is deprecated and will be removed in a future version.\n",
      "Instructions for updating:\n",
      "Colocations handled automatically by placer.\n"
     ]
    }
   ],
   "source": [
    "tf_record_folder=os.path.join(os.path.expanduser('~'),'anaconda3','examples','cats_and_dog','tf_record')\n",
    "\n",
    "onlyfiles = [f for f in os.listdir(tf_record_folder) if os.path.isfile(os.path.join(tf_record_folder, f))]\n",
    "print(onlyfiles)\n",
    "for file in onlyfiles:\n",
    "    t = TFRecordExtractor(os.path.join(tf_record_folder,file))\n",
    "    t.extract_image()\n"
   ]
  },
  {
   "cell_type": "code",
   "execution_count": null,
   "metadata": {},
   "outputs": [],
   "source": [
    "    t = TFRecordExtractor('./images_byte.tfrecord')\n",
    "    t.extract_image()"
   ]
  },
  {
   "cell_type": "code",
   "execution_count": null,
   "metadata": {},
   "outputs": [],
   "source": [
    "cat_img = skiio.imread(os.path.join(os.path.expanduser('~'),'anaconda3','examples','cats_and_dog','train','cat.1000.jpg'))\n",
    "skiio.imshow(cat_img)"
   ]
  },
  {
   "cell_type": "code",
   "execution_count": null,
   "metadata": {},
   "outputs": [],
   "source": [
    "cat_img = skiio.imread(os.path.join(os.path.expanduser('~'),'anaconda3','examples','cats_and_dog','ExtractedImages','cat.1000.jpg'))\n",
    "skiio.imshow(cat_img)"
   ]
  }
 ],
 "metadata": {
  "kernelspec": {
   "display_name": "Python 3",
   "language": "python",
   "name": "python3"
  },
  "language_info": {
   "codemirror_mode": {
    "name": "ipython",
    "version": 3
   },
   "file_extension": ".py",
   "mimetype": "text/x-python",
   "name": "python",
   "nbconvert_exporter": "python",
   "pygments_lexer": "ipython3",
   "version": "3.7.3"
  }
 },
 "nbformat": 4,
 "nbformat_minor": 2
}
